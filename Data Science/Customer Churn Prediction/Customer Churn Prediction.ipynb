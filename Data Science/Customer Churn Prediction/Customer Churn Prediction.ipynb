{
 "cells": [
  {
   "cell_type": "markdown",
   "metadata": {},
   "source": [
    "# Customers Churn Prediction\n",
    "\n",
    "**Kyu Cho  \n",
    "October 15, 2016**\n",
    "\n",
    "# Introduction\n",
    "\n",
    "\"Churn Rate\" is a business term describing the rate at which customers leave or cease paying for a product or service. It's a critical figure in many businesses, as it's often the case that acquiring new customers is a lot more costly than retaining existing ones (in some cases, 5 to 20 times more expensive).  \n",
    "\n",
    "Understanding what keeps customers engaged, therefore, is incredibly valuable, as it is a logical foundation from which to develop retention strategies and roll out operational practices aimed to keep customers from walking out the door. Consequently, there's growing interest among companies to develop better churn-detection techniques, leading many to look to data mining and machine learning for new and creative approaches.  \n",
    "\n",
    "Predicting churn is particularly important for businesses w/ subscription models such as cell phone, cable, or merchant credit card processing plans. But modeling churn has wide reaching applications in many domains. For example, casinos have used predictive models to predict ideal room conditions for keeping patrons at the blackjack table and when to reward unlucky gamblers with front row seats to Celine Dion. Similarly, airlines may offer first class upgrades to complaining customers. The list goes on.  \n",
    "\n",
    "# Table of Contents\n",
    "\n",
    "1. Understanding Data\n",
    "2. Data Cleaning\n",
    "\t+ Convert categorical attributes to dummy variables\n",
    "3. Explorting Data\n",
    "4. Hypothesis Generation\n",
    "\t+ Helper Functions\n",
    "5. Build Model\n",
    "\t+ Base Model\n",
    "\t+ Logistic Regression - using churn cost per customer\n",
    "\t+ Randome Forest\n",
    "\t+ Naive Bayes\n",
    "6. Visualizing churn cost per customer of the three estimators\n",
    "7. Conclusion"
   ]
  },
  {
   "cell_type": "markdown",
   "metadata": {},
   "source": [
    "# 1. Understanding Data\n"
   ]
  },
  {
   "cell_type": "code",
   "execution_count": 1,
   "metadata": {
    "collapsed": false
   },
   "outputs": [],
   "source": [
    "get_ipython().magic(u'matplotlib inline')\n",
    "\n",
    "from __future__ import division\n",
    "import pandas as pd\n",
    "pd.set_option('display.width', 500)\n",
    "pd.set_option('display.max_columns', 100)\n",
    "pd.set_option('display.notebook_repr_html', True)\n",
    "\n",
    "import numpy as np\n",
    "\n",
    "import json\n",
    "from IPython.display import display\n",
    "from sklearn.cross_validation import KFold\n",
    "from sklearn.preprocessing import StandardScaler\n",
    "from sklearn.cross_validation import train_test_split\n",
    "from sklearn.svm import SVC\n",
    "from sklearn.ensemble import RandomForestClassifier as RF\n",
    "\n",
    "import seaborn as sns\n",
    "sns.set_style('whitegrid')\n",
    "sns.set_context('poster')\n",
    "\n",
    "from matplotlib import rcParams\n",
    "import matplotlib.pyplot as plt\n",
    "\n",
    "import os\n",
    "os.chdir('/home/kyu/Google Drive/Portfolio/project 106')\n",
    "\n",
    "data = pd.read_csv(\"data.csv\", low_memory=False)\n"
   ]
  },
  {
   "cell_type": "code",
   "execution_count": 2,
   "metadata": {
    "collapsed": false
   },
   "outputs": [
    {
     "data": {
      "text/plain": [
       "(3333, 21)"
      ]
     },
     "metadata": {},
     "output_type": "display_data"
    },
    {
     "data": {
      "text/html": [
       "<div>\n",
       "<table border=\"1\" class=\"dataframe\">\n",
       "  <thead>\n",
       "    <tr style=\"text-align: right;\">\n",
       "      <th></th>\n",
       "      <th>State</th>\n",
       "      <th>Account Length</th>\n",
       "      <th>Area Code</th>\n",
       "      <th>Phone</th>\n",
       "      <th>Int'l Plan</th>\n",
       "      <th>VMail Plan</th>\n",
       "      <th>VMail Message</th>\n",
       "      <th>Day Mins</th>\n",
       "      <th>Day Calls</th>\n",
       "      <th>Day Charge</th>\n",
       "      <th>Eve Mins</th>\n",
       "      <th>Eve Calls</th>\n",
       "      <th>Eve Charge</th>\n",
       "      <th>Night Mins</th>\n",
       "      <th>Night Calls</th>\n",
       "      <th>Night Charge</th>\n",
       "      <th>Intl Mins</th>\n",
       "      <th>Intl Calls</th>\n",
       "      <th>Intl Charge</th>\n",
       "      <th>CustServ Calls</th>\n",
       "      <th>Churn?</th>\n",
       "    </tr>\n",
       "  </thead>\n",
       "  <tbody>\n",
       "    <tr>\n",
       "      <th>0</th>\n",
       "      <td>KS</td>\n",
       "      <td>128</td>\n",
       "      <td>415</td>\n",
       "      <td>382-4657</td>\n",
       "      <td>no</td>\n",
       "      <td>yes</td>\n",
       "      <td>25</td>\n",
       "      <td>265.1</td>\n",
       "      <td>110</td>\n",
       "      <td>45.07</td>\n",
       "      <td>197.4</td>\n",
       "      <td>99</td>\n",
       "      <td>16.78</td>\n",
       "      <td>244.7</td>\n",
       "      <td>91</td>\n",
       "      <td>11.01</td>\n",
       "      <td>10.0</td>\n",
       "      <td>3</td>\n",
       "      <td>2.70</td>\n",
       "      <td>1</td>\n",
       "      <td>False.</td>\n",
       "    </tr>\n",
       "    <tr>\n",
       "      <th>1</th>\n",
       "      <td>OH</td>\n",
       "      <td>107</td>\n",
       "      <td>415</td>\n",
       "      <td>371-7191</td>\n",
       "      <td>no</td>\n",
       "      <td>yes</td>\n",
       "      <td>26</td>\n",
       "      <td>161.6</td>\n",
       "      <td>123</td>\n",
       "      <td>27.47</td>\n",
       "      <td>195.5</td>\n",
       "      <td>103</td>\n",
       "      <td>16.62</td>\n",
       "      <td>254.4</td>\n",
       "      <td>103</td>\n",
       "      <td>11.45</td>\n",
       "      <td>13.7</td>\n",
       "      <td>3</td>\n",
       "      <td>3.70</td>\n",
       "      <td>1</td>\n",
       "      <td>False.</td>\n",
       "    </tr>\n",
       "    <tr>\n",
       "      <th>2</th>\n",
       "      <td>NJ</td>\n",
       "      <td>137</td>\n",
       "      <td>415</td>\n",
       "      <td>358-1921</td>\n",
       "      <td>no</td>\n",
       "      <td>no</td>\n",
       "      <td>0</td>\n",
       "      <td>243.4</td>\n",
       "      <td>114</td>\n",
       "      <td>41.38</td>\n",
       "      <td>121.2</td>\n",
       "      <td>110</td>\n",
       "      <td>10.30</td>\n",
       "      <td>162.6</td>\n",
       "      <td>104</td>\n",
       "      <td>7.32</td>\n",
       "      <td>12.2</td>\n",
       "      <td>5</td>\n",
       "      <td>3.29</td>\n",
       "      <td>0</td>\n",
       "      <td>False.</td>\n",
       "    </tr>\n",
       "  </tbody>\n",
       "</table>\n",
       "</div>"
      ],
      "text/plain": [
       "  State  Account Length  Area Code     Phone Int'l Plan VMail Plan  VMail Message  Day Mins  Day Calls  Day Charge  Eve Mins  Eve Calls  Eve Charge  Night Mins  Night Calls  Night Charge  Intl Mins  Intl Calls  Intl Charge  CustServ Calls  Churn?\n",
       "0    KS             128        415  382-4657         no        yes             25     265.1        110       45.07     197.4         99       16.78       244.7           91         11.01       10.0           3         2.70               1  False.\n",
       "1    OH             107        415  371-7191         no        yes             26     161.6        123       27.47     195.5        103       16.62       254.4          103         11.45       13.7           3         3.70               1  False.\n",
       "2    NJ             137        415  358-1921         no         no              0     243.4        114       41.38     121.2        110       10.30       162.6          104          7.32       12.2           5         3.29               0  False."
      ]
     },
     "metadata": {},
     "output_type": "display_data"
    },
    {
     "data": {
      "text/html": [
       "<div>\n",
       "<table border=\"1\" class=\"dataframe\">\n",
       "  <thead>\n",
       "    <tr style=\"text-align: right;\">\n",
       "      <th></th>\n",
       "      <th>Account Length</th>\n",
       "      <th>Area Code</th>\n",
       "      <th>VMail Message</th>\n",
       "      <th>Day Mins</th>\n",
       "      <th>Day Calls</th>\n",
       "      <th>Day Charge</th>\n",
       "      <th>Eve Mins</th>\n",
       "      <th>Eve Calls</th>\n",
       "      <th>Eve Charge</th>\n",
       "      <th>Night Mins</th>\n",
       "      <th>Night Calls</th>\n",
       "      <th>Night Charge</th>\n",
       "      <th>Intl Mins</th>\n",
       "      <th>Intl Calls</th>\n",
       "      <th>Intl Charge</th>\n",
       "      <th>CustServ Calls</th>\n",
       "    </tr>\n",
       "  </thead>\n",
       "  <tbody>\n",
       "    <tr>\n",
       "      <th>count</th>\n",
       "      <td>3333.000000</td>\n",
       "      <td>3333.000000</td>\n",
       "      <td>3333.000000</td>\n",
       "      <td>3333.000000</td>\n",
       "      <td>3333.000000</td>\n",
       "      <td>3333.000000</td>\n",
       "      <td>3333.000000</td>\n",
       "      <td>3333.000000</td>\n",
       "      <td>3333.000000</td>\n",
       "      <td>3333.000000</td>\n",
       "      <td>3333.000000</td>\n",
       "      <td>3333.000000</td>\n",
       "      <td>3333.000000</td>\n",
       "      <td>3333.000000</td>\n",
       "      <td>3333.000000</td>\n",
       "      <td>3333.000000</td>\n",
       "    </tr>\n",
       "    <tr>\n",
       "      <th>mean</th>\n",
       "      <td>101.064806</td>\n",
       "      <td>437.182418</td>\n",
       "      <td>8.099010</td>\n",
       "      <td>179.775098</td>\n",
       "      <td>100.435644</td>\n",
       "      <td>30.562307</td>\n",
       "      <td>200.980348</td>\n",
       "      <td>100.114311</td>\n",
       "      <td>17.083540</td>\n",
       "      <td>200.872037</td>\n",
       "      <td>100.107711</td>\n",
       "      <td>9.039325</td>\n",
       "      <td>10.237294</td>\n",
       "      <td>4.479448</td>\n",
       "      <td>2.764581</td>\n",
       "      <td>1.562856</td>\n",
       "    </tr>\n",
       "    <tr>\n",
       "      <th>std</th>\n",
       "      <td>39.822106</td>\n",
       "      <td>42.371290</td>\n",
       "      <td>13.688365</td>\n",
       "      <td>54.467389</td>\n",
       "      <td>20.069084</td>\n",
       "      <td>9.259435</td>\n",
       "      <td>50.713844</td>\n",
       "      <td>19.922625</td>\n",
       "      <td>4.310668</td>\n",
       "      <td>50.573847</td>\n",
       "      <td>19.568609</td>\n",
       "      <td>2.275873</td>\n",
       "      <td>2.791840</td>\n",
       "      <td>2.461214</td>\n",
       "      <td>0.753773</td>\n",
       "      <td>1.315491</td>\n",
       "    </tr>\n",
       "    <tr>\n",
       "      <th>min</th>\n",
       "      <td>1.000000</td>\n",
       "      <td>408.000000</td>\n",
       "      <td>0.000000</td>\n",
       "      <td>0.000000</td>\n",
       "      <td>0.000000</td>\n",
       "      <td>0.000000</td>\n",
       "      <td>0.000000</td>\n",
       "      <td>0.000000</td>\n",
       "      <td>0.000000</td>\n",
       "      <td>23.200000</td>\n",
       "      <td>33.000000</td>\n",
       "      <td>1.040000</td>\n",
       "      <td>0.000000</td>\n",
       "      <td>0.000000</td>\n",
       "      <td>0.000000</td>\n",
       "      <td>0.000000</td>\n",
       "    </tr>\n",
       "    <tr>\n",
       "      <th>25%</th>\n",
       "      <td>74.000000</td>\n",
       "      <td>408.000000</td>\n",
       "      <td>0.000000</td>\n",
       "      <td>143.700000</td>\n",
       "      <td>87.000000</td>\n",
       "      <td>24.430000</td>\n",
       "      <td>166.600000</td>\n",
       "      <td>87.000000</td>\n",
       "      <td>14.160000</td>\n",
       "      <td>167.000000</td>\n",
       "      <td>87.000000</td>\n",
       "      <td>7.520000</td>\n",
       "      <td>8.500000</td>\n",
       "      <td>3.000000</td>\n",
       "      <td>2.300000</td>\n",
       "      <td>1.000000</td>\n",
       "    </tr>\n",
       "    <tr>\n",
       "      <th>50%</th>\n",
       "      <td>101.000000</td>\n",
       "      <td>415.000000</td>\n",
       "      <td>0.000000</td>\n",
       "      <td>179.400000</td>\n",
       "      <td>101.000000</td>\n",
       "      <td>30.500000</td>\n",
       "      <td>201.400000</td>\n",
       "      <td>100.000000</td>\n",
       "      <td>17.120000</td>\n",
       "      <td>201.200000</td>\n",
       "      <td>100.000000</td>\n",
       "      <td>9.050000</td>\n",
       "      <td>10.300000</td>\n",
       "      <td>4.000000</td>\n",
       "      <td>2.780000</td>\n",
       "      <td>1.000000</td>\n",
       "    </tr>\n",
       "    <tr>\n",
       "      <th>75%</th>\n",
       "      <td>127.000000</td>\n",
       "      <td>510.000000</td>\n",
       "      <td>20.000000</td>\n",
       "      <td>216.400000</td>\n",
       "      <td>114.000000</td>\n",
       "      <td>36.790000</td>\n",
       "      <td>235.300000</td>\n",
       "      <td>114.000000</td>\n",
       "      <td>20.000000</td>\n",
       "      <td>235.300000</td>\n",
       "      <td>113.000000</td>\n",
       "      <td>10.590000</td>\n",
       "      <td>12.100000</td>\n",
       "      <td>6.000000</td>\n",
       "      <td>3.270000</td>\n",
       "      <td>2.000000</td>\n",
       "    </tr>\n",
       "    <tr>\n",
       "      <th>max</th>\n",
       "      <td>243.000000</td>\n",
       "      <td>510.000000</td>\n",
       "      <td>51.000000</td>\n",
       "      <td>350.800000</td>\n",
       "      <td>165.000000</td>\n",
       "      <td>59.640000</td>\n",
       "      <td>363.700000</td>\n",
       "      <td>170.000000</td>\n",
       "      <td>30.910000</td>\n",
       "      <td>395.000000</td>\n",
       "      <td>175.000000</td>\n",
       "      <td>17.770000</td>\n",
       "      <td>20.000000</td>\n",
       "      <td>20.000000</td>\n",
       "      <td>5.400000</td>\n",
       "      <td>9.000000</td>\n",
       "    </tr>\n",
       "  </tbody>\n",
       "</table>\n",
       "</div>"
      ],
      "text/plain": [
       "       Account Length    Area Code  VMail Message     Day Mins    Day Calls   Day Charge     Eve Mins    Eve Calls   Eve Charge   Night Mins  Night Calls  Night Charge    Intl Mins   Intl Calls  Intl Charge  CustServ Calls\n",
       "count     3333.000000  3333.000000    3333.000000  3333.000000  3333.000000  3333.000000  3333.000000  3333.000000  3333.000000  3333.000000  3333.000000   3333.000000  3333.000000  3333.000000  3333.000000     3333.000000\n",
       "mean       101.064806   437.182418       8.099010   179.775098   100.435644    30.562307   200.980348   100.114311    17.083540   200.872037   100.107711      9.039325    10.237294     4.479448     2.764581        1.562856\n",
       "std         39.822106    42.371290      13.688365    54.467389    20.069084     9.259435    50.713844    19.922625     4.310668    50.573847    19.568609      2.275873     2.791840     2.461214     0.753773        1.315491\n",
       "min          1.000000   408.000000       0.000000     0.000000     0.000000     0.000000     0.000000     0.000000     0.000000    23.200000    33.000000      1.040000     0.000000     0.000000     0.000000        0.000000\n",
       "25%         74.000000   408.000000       0.000000   143.700000    87.000000    24.430000   166.600000    87.000000    14.160000   167.000000    87.000000      7.520000     8.500000     3.000000     2.300000        1.000000\n",
       "50%        101.000000   415.000000       0.000000   179.400000   101.000000    30.500000   201.400000   100.000000    17.120000   201.200000   100.000000      9.050000    10.300000     4.000000     2.780000        1.000000\n",
       "75%        127.000000   510.000000      20.000000   216.400000   114.000000    36.790000   235.300000   114.000000    20.000000   235.300000   113.000000     10.590000    12.100000     6.000000     3.270000        2.000000\n",
       "max        243.000000   510.000000      51.000000   350.800000   165.000000    59.640000   363.700000   170.000000    30.910000   395.000000   175.000000     17.770000    20.000000    20.000000     5.400000        9.000000"
      ]
     },
     "metadata": {},
     "output_type": "display_data"
    },
    {
     "name": "stdout",
     "output_type": "stream",
     "text": [
      "<class 'pandas.core.frame.DataFrame'>\n",
      "Int64Index: 3333 entries, 0 to 3332\n",
      "Data columns (total 21 columns):\n",
      "State             3333 non-null object\n",
      "Account Length    3333 non-null int64\n",
      "Area Code         3333 non-null int64\n",
      "Phone             3333 non-null object\n",
      "Int'l Plan        3333 non-null object\n",
      "VMail Plan        3333 non-null object\n",
      "VMail Message     3333 non-null int64\n",
      "Day Mins          3333 non-null float64\n",
      "Day Calls         3333 non-null int64\n",
      "Day Charge        3333 non-null float64\n",
      "Eve Mins          3333 non-null float64\n",
      "Eve Calls         3333 non-null int64\n",
      "Eve Charge        3333 non-null float64\n",
      "Night Mins        3333 non-null float64\n",
      "Night Calls       3333 non-null int64\n",
      "Night Charge      3333 non-null float64\n",
      "Intl Mins         3333 non-null float64\n",
      "Intl Calls        3333 non-null int64\n",
      "Intl Charge       3333 non-null float64\n",
      "CustServ Calls    3333 non-null int64\n",
      "Churn?            3333 non-null object\n",
      "dtypes: float64(8), int64(8), object(5)\n",
      "memory usage: 572.9+ KB\n"
     ]
    },
    {
     "data": {
      "text/plain": [
       "None"
      ]
     },
     "metadata": {},
     "output_type": "display_data"
    },
    {
     "data": {
      "text/plain": [
       "'Checking factor variable levels'"
      ]
     },
     "metadata": {},
     "output_type": "display_data"
    },
    {
     "data": {
      "text/plain": [
       "State               51\n",
       "Account Length     212\n",
       "Area Code            3\n",
       "Phone             3333\n",
       "Int'l Plan           2\n",
       "VMail Plan           2\n",
       "VMail Message       46\n",
       "Day Mins          1667\n",
       "Day Calls          119\n",
       "Day Charge        1667\n",
       "Eve Mins          1611\n",
       "Eve Calls          123\n",
       "Eve Charge        1440\n",
       "Night Mins        1591\n",
       "Night Calls        120\n",
       "Night Charge       933\n",
       "Intl Mins          162\n",
       "Intl Calls          21\n",
       "Intl Charge        162\n",
       "CustServ Calls      10\n",
       "Churn?               2\n",
       "dtype: int64"
      ]
     },
     "metadata": {},
     "output_type": "display_data"
    }
   ],
   "source": [
    "display(data.shape)\n",
    "display(data.head(3))\n",
    "display(data.describe())\n",
    "display(data.info())\n",
    "\n",
    "# check factor variable levels\n",
    "display(\"Checking factor variable levels\")\n",
    "display(data.apply(lambda x: len(x.unique())))"
   ]
  },
  {
   "cell_type": "code",
   "execution_count": 3,
   "metadata": {
    "collapsed": false
   },
   "outputs": [
    {
     "name": "stdout",
     "output_type": "stream",
     "text": [
      "Frequency Table\n",
      "\n",
      "Frequency table for varible Int'l Plan\n",
      "no     3010\n",
      "yes     323\n",
      "Name: Int'l Plan, dtype: int64\n",
      "\n",
      "Frequency table for varible VMail Plan\n",
      "no     2411\n",
      "yes     922\n",
      "Name: VMail Plan, dtype: int64\n",
      "\n",
      "Frequency table for varible Churn?\n",
      "False.    2850\n",
      "True.      483\n",
      "Name: Churn?, dtype: int64\n"
     ]
    }
   ],
   "source": [
    "# Filter categorical variables\n",
    "categorical_columns = [x for x in data.columns if data.dtypes[x] == 'object']\n",
    "\n",
    "# Include only usefull variables\n",
    "categorical_columns = [x for x in categorical_columns if x in ['Area Code', \"Int'l Plan\", 'VMail Plan', 'CustServ Calls', 'Churn?']]\n",
    "\n",
    "# Frequency table \n",
    "print(\"Frequency Table\")\n",
    "for col in categorical_columns:\n",
    "    print('\\nFrequency table for varible %s' % col)\n",
    "    print(data[col].value_counts(sort=True, dropna=False))"
   ]
  },
  {
   "cell_type": "markdown",
   "metadata": {},
   "source": [
    "# 2. Data Cleaning"
   ]
  },
  {
   "cell_type": "code",
   "execution_count": 4,
   "metadata": {
    "collapsed": false
   },
   "outputs": [
    {
     "data": {
      "text/html": [
       "<div>\n",
       "<table border=\"1\" class=\"dataframe\">\n",
       "  <thead>\n",
       "    <tr style=\"text-align: right;\">\n",
       "      <th></th>\n",
       "      <th>State</th>\n",
       "      <th>Account Length</th>\n",
       "      <th>Area Code</th>\n",
       "      <th>Int'l Plan</th>\n",
       "      <th>VMail Plan</th>\n",
       "      <th>VMail Message</th>\n",
       "      <th>Day Mins</th>\n",
       "      <th>Day Calls</th>\n",
       "      <th>Day Charge</th>\n",
       "      <th>Eve Mins</th>\n",
       "      <th>Eve Calls</th>\n",
       "      <th>Eve Charge</th>\n",
       "      <th>Night Mins</th>\n",
       "      <th>Night Calls</th>\n",
       "      <th>Night Charge</th>\n",
       "      <th>Intl Mins</th>\n",
       "      <th>Intl Calls</th>\n",
       "      <th>Intl Charge</th>\n",
       "      <th>CustServ Calls</th>\n",
       "      <th>Churn?</th>\n",
       "    </tr>\n",
       "  </thead>\n",
       "  <tbody>\n",
       "    <tr>\n",
       "      <th>0</th>\n",
       "      <td>KS</td>\n",
       "      <td>128</td>\n",
       "      <td>415</td>\n",
       "      <td>0</td>\n",
       "      <td>1</td>\n",
       "      <td>25</td>\n",
       "      <td>265.1</td>\n",
       "      <td>110</td>\n",
       "      <td>45.07</td>\n",
       "      <td>197.4</td>\n",
       "      <td>99</td>\n",
       "      <td>16.78</td>\n",
       "      <td>244.7</td>\n",
       "      <td>91</td>\n",
       "      <td>11.01</td>\n",
       "      <td>10.0</td>\n",
       "      <td>3</td>\n",
       "      <td>2.70</td>\n",
       "      <td>1</td>\n",
       "      <td>0</td>\n",
       "    </tr>\n",
       "    <tr>\n",
       "      <th>1</th>\n",
       "      <td>OH</td>\n",
       "      <td>107</td>\n",
       "      <td>415</td>\n",
       "      <td>0</td>\n",
       "      <td>1</td>\n",
       "      <td>26</td>\n",
       "      <td>161.6</td>\n",
       "      <td>123</td>\n",
       "      <td>27.47</td>\n",
       "      <td>195.5</td>\n",
       "      <td>103</td>\n",
       "      <td>16.62</td>\n",
       "      <td>254.4</td>\n",
       "      <td>103</td>\n",
       "      <td>11.45</td>\n",
       "      <td>13.7</td>\n",
       "      <td>3</td>\n",
       "      <td>3.70</td>\n",
       "      <td>1</td>\n",
       "      <td>0</td>\n",
       "    </tr>\n",
       "    <tr>\n",
       "      <th>2</th>\n",
       "      <td>NJ</td>\n",
       "      <td>137</td>\n",
       "      <td>415</td>\n",
       "      <td>0</td>\n",
       "      <td>0</td>\n",
       "      <td>0</td>\n",
       "      <td>243.4</td>\n",
       "      <td>114</td>\n",
       "      <td>41.38</td>\n",
       "      <td>121.2</td>\n",
       "      <td>110</td>\n",
       "      <td>10.30</td>\n",
       "      <td>162.6</td>\n",
       "      <td>104</td>\n",
       "      <td>7.32</td>\n",
       "      <td>12.2</td>\n",
       "      <td>5</td>\n",
       "      <td>3.29</td>\n",
       "      <td>0</td>\n",
       "      <td>0</td>\n",
       "    </tr>\n",
       "    <tr>\n",
       "      <th>3</th>\n",
       "      <td>OH</td>\n",
       "      <td>84</td>\n",
       "      <td>408</td>\n",
       "      <td>1</td>\n",
       "      <td>0</td>\n",
       "      <td>0</td>\n",
       "      <td>299.4</td>\n",
       "      <td>71</td>\n",
       "      <td>50.90</td>\n",
       "      <td>61.9</td>\n",
       "      <td>88</td>\n",
       "      <td>5.26</td>\n",
       "      <td>196.9</td>\n",
       "      <td>89</td>\n",
       "      <td>8.86</td>\n",
       "      <td>6.6</td>\n",
       "      <td>7</td>\n",
       "      <td>1.78</td>\n",
       "      <td>2</td>\n",
       "      <td>0</td>\n",
       "    </tr>\n",
       "    <tr>\n",
       "      <th>4</th>\n",
       "      <td>OK</td>\n",
       "      <td>75</td>\n",
       "      <td>415</td>\n",
       "      <td>1</td>\n",
       "      <td>0</td>\n",
       "      <td>0</td>\n",
       "      <td>166.7</td>\n",
       "      <td>113</td>\n",
       "      <td>28.34</td>\n",
       "      <td>148.3</td>\n",
       "      <td>122</td>\n",
       "      <td>12.61</td>\n",
       "      <td>186.9</td>\n",
       "      <td>121</td>\n",
       "      <td>8.41</td>\n",
       "      <td>10.1</td>\n",
       "      <td>3</td>\n",
       "      <td>2.73</td>\n",
       "      <td>3</td>\n",
       "      <td>0</td>\n",
       "    </tr>\n",
       "  </tbody>\n",
       "</table>\n",
       "</div>"
      ],
      "text/plain": [
       "  State  Account Length  Area Code  Int'l Plan  VMail Plan  VMail Message  Day Mins  Day Calls  Day Charge  Eve Mins  Eve Calls  Eve Charge  Night Mins  Night Calls  Night Charge  Intl Mins  Intl Calls  Intl Charge  CustServ Calls  Churn?\n",
       "0    KS             128        415           0           1             25     265.1        110       45.07     197.4         99       16.78       244.7           91         11.01       10.0           3         2.70               1       0\n",
       "1    OH             107        415           0           1             26     161.6        123       27.47     195.5        103       16.62       254.4          103         11.45       13.7           3         3.70               1       0\n",
       "2    NJ             137        415           0           0              0     243.4        114       41.38     121.2        110       10.30       162.6          104          7.32       12.2           5         3.29               0       0\n",
       "3    OH              84        408           1           0              0     299.4         71       50.90      61.9         88        5.26       196.9           89          8.86        6.6           7         1.78               2       0\n",
       "4    OK              75        415           1           0              0     166.7        113       28.34     148.3        122       12.61       186.9          121          8.41       10.1           3         2.73               3       0"
      ]
     },
     "execution_count": 4,
     "metadata": {},
     "output_type": "execute_result"
    }
   ],
   "source": [
    "# remove unnecessary variables\n",
    "data = data.drop('Phone', axis=1)\n",
    "\n",
    "# conver yes/no to boolean inteter value\n",
    "data[\"Int'l Plan\"] = (data[\"Int'l Plan\"] == 'yes').astype(int)\n",
    "data[\"VMail Plan\"] = (data[\"VMail Plan\"] == 'yes').astype(int)\n",
    "data[\"Churn?\"] = (data[\"Churn?\"] == 'True.').astype(int)\n",
    "\n",
    "data.head()"
   ]
  },
  {
   "cell_type": "code",
   "execution_count": 5,
   "metadata": {
    "collapsed": false
   },
   "outputs": [
    {
     "name": "stdout",
     "output_type": "stream",
     "text": [
      "<class 'pandas.core.frame.DataFrame'>\n",
      "Int64Index: 3333 entries, 0 to 3332\n",
      "Data columns (total 72 columns):\n",
      "Account Length    3333 non-null int64\n",
      "Int'l Plan        3333 non-null int64\n",
      "VMail Plan        3333 non-null int64\n",
      "VMail Message     3333 non-null int64\n",
      "Day Mins          3333 non-null float64\n",
      "Day Calls         3333 non-null int64\n",
      "Day Charge        3333 non-null float64\n",
      "Eve Mins          3333 non-null float64\n",
      "Eve Calls         3333 non-null int64\n",
      "Eve Charge        3333 non-null float64\n",
      "Night Mins        3333 non-null float64\n",
      "Night Calls       3333 non-null int64\n",
      "Night Charge      3333 non-null float64\n",
      "Intl Mins         3333 non-null float64\n",
      "Intl Calls        3333 non-null int64\n",
      "Intl Charge       3333 non-null float64\n",
      "CustServ Calls    3333 non-null int64\n",
      "Churn?            3333 non-null int64\n",
      "State_AK          3333 non-null float64\n",
      "State_AL          3333 non-null float64\n",
      "State_AR          3333 non-null float64\n",
      "State_AZ          3333 non-null float64\n",
      "State_CA          3333 non-null float64\n",
      "State_CO          3333 non-null float64\n",
      "State_CT          3333 non-null float64\n",
      "State_DC          3333 non-null float64\n",
      "State_DE          3333 non-null float64\n",
      "State_FL          3333 non-null float64\n",
      "State_GA          3333 non-null float64\n",
      "State_HI          3333 non-null float64\n",
      "State_IA          3333 non-null float64\n",
      "State_ID          3333 non-null float64\n",
      "State_IL          3333 non-null float64\n",
      "State_IN          3333 non-null float64\n",
      "State_KS          3333 non-null float64\n",
      "State_KY          3333 non-null float64\n",
      "State_LA          3333 non-null float64\n",
      "State_MA          3333 non-null float64\n",
      "State_MD          3333 non-null float64\n",
      "State_ME          3333 non-null float64\n",
      "State_MI          3333 non-null float64\n",
      "State_MN          3333 non-null float64\n",
      "State_MO          3333 non-null float64\n",
      "State_MS          3333 non-null float64\n",
      "State_MT          3333 non-null float64\n",
      "State_NC          3333 non-null float64\n",
      "State_ND          3333 non-null float64\n",
      "State_NE          3333 non-null float64\n",
      "State_NH          3333 non-null float64\n",
      "State_NJ          3333 non-null float64\n",
      "State_NM          3333 non-null float64\n",
      "State_NV          3333 non-null float64\n",
      "State_NY          3333 non-null float64\n",
      "State_OH          3333 non-null float64\n",
      "State_OK          3333 non-null float64\n",
      "State_OR          3333 non-null float64\n",
      "State_PA          3333 non-null float64\n",
      "State_RI          3333 non-null float64\n",
      "State_SC          3333 non-null float64\n",
      "State_SD          3333 non-null float64\n",
      "State_TN          3333 non-null float64\n",
      "State_TX          3333 non-null float64\n",
      "State_UT          3333 non-null float64\n",
      "State_VA          3333 non-null float64\n",
      "State_VT          3333 non-null float64\n",
      "State_WA          3333 non-null float64\n",
      "State_WI          3333 non-null float64\n",
      "State_WV          3333 non-null float64\n",
      "State_WY          3333 non-null float64\n",
      "Area_Code_408     3333 non-null float64\n",
      "Area_Code_415     3333 non-null float64\n",
      "Area_Code_510     3333 non-null float64\n",
      "dtypes: float64(62), int64(10)\n",
      "memory usage: 1.9 MB\n",
      "None\n"
     ]
    }
   ],
   "source": [
    "## Convert categorical attributes to dummy variables\n",
    "\n",
    "# Generate the dummy variables\n",
    "dummy_states = pd.get_dummies(data['State'], prefix='State')\n",
    "dummy_area_codes = pd.get_dummies(data['Area Code'], prefix='Area_Code')\n",
    "\n",
    "# Join the new dummy variables to the data\n",
    "data = data.join(dummy_states)\n",
    "data = data.join(dummy_area_codes)\n",
    "\n",
    "# Drop the old categorical attributes\n",
    "data = data.drop('State', axis=1)\n",
    "data = data.drop('Area Code', axis=1)\n",
    "\n",
    "print(data.info())"
   ]
  },
  {
   "cell_type": "markdown",
   "metadata": {},
   "source": [
    "# 3. Explorting Data"
   ]
  },
  {
   "cell_type": "code",
   "execution_count": 6,
   "metadata": {
    "collapsed": false
   },
   "outputs": [
    {
     "name": "stdout",
     "output_type": "stream",
     "text": [
      "Mean of Y = 0.144914491449\n"
     ]
    }
   ],
   "source": [
    "X = data.drop('Churn?', axis=1)\n",
    "Y = data['Churn?']\n",
    "print(\"Mean of Y = \" + str(np.mean(Y)))\n",
    "\n",
    "# In our full dataset, ~14.5% of customers are churners."
   ]
  },
  {
   "cell_type": "code",
   "execution_count": 7,
   "metadata": {
    "collapsed": false
   },
   "outputs": [
    {
     "name": "stdout",
     "output_type": "stream",
     "text": [
      "Mean of Y = 0.144914491449\n",
      "Mean of Y_train = 0.144786196549\n",
      "Mean of Y_test = 0.145427286357\n",
      "epsilon = 0.000641089807684\n"
     ]
    }
   ],
   "source": [
    "X_train, X_test, Y_train, Y_test = train_test_split(X, Y, train_size=0.8)\n",
    "epsilon = np.abs(np.mean(Y_train) - np.mean(Y_test))\n",
    "\n",
    "print(\"Mean of Y = \" + str(np.mean(Y)))\n",
    "print(\"Mean of Y_train = \" + str(np.mean(Y_train)))\n",
    "print(\"Mean of Y_test = \" + str(np.mean(Y_test)))\n",
    "print(\"epsilon = \" + str(epsilon))\n",
    "\n",
    "\n",
    "# - epsilon = 0.001233 (the mean of both Y_test and Y_train and quite similar.) "
   ]
  },
  {
   "cell_type": "code",
   "execution_count": 8,
   "metadata": {
    "collapsed": true
   },
   "outputs": [],
   "source": [
    "# Reconstruct datasets\n",
    "#data_train = X_train.join(Y_train)\n",
    "#data_test = X_test.join(Y_test)\n",
    "\n",
    "# Save dataset in case we need to load them later (in another project)\n",
    "#data_train.to_csv('data_train.csv', index = False)\n",
    "#data_test.to_csv('data_test.csv', index = False)"
   ]
  },
  {
   "cell_type": "markdown",
   "metadata": {},
   "source": [
    "# 4. Hypothesis Generation\n",
    "\n",
    "What's the best metric for comparing models? Since the classes are unbalanced, model accuracy is not enough (correct guesses / total guesses). If we were naively to predict all customers to not churn, we would have ~85% accuracy. Knowing this, we should use either precision or recall.\n",
    "\n",
    "Because losing a customer is more costly than whatever measures are taken to prevent a customer from leaving, minimizing false negatives (saying a customer wouldn't churn and they do), is the number to minimize. Thus, recall will be our primary model metric, while still considering precision.\n",
    "\n",
    "The real goal behind reducing customers churn is to reduce the loss of churn. In other words, we want to reduce the cost of churning customers.\n",
    "\n",
    "The predictive models that we are going to build will not be judged on their accuracy but on their ability to reduce churn cost per customer.  \n",
    "Let's first introduce the confusion matrix of the cost relative to customers churn.\n",
    "- True Positive (TP) as a customer that is predicted to churn and actually churns\n",
    "- True Negative (TN) as a customer that is predicted to not churn and that doesn't churn\n",
    "- False Positive (FP) as a customer that is predicted to churn and actually doesn't churn\n",
    "- False Negative (FN) as a customer that is predicted to not churn but actually churns\n",
    "\n",
    "Suppose that the Life Time Value (LTV) of a customer is approximately \\$1,000 (3 years at ~\\$30/month subscription plan). This means that each customer that quit the company means \\$1,000 loss for the company.    \n",
    "When a customer is detected as churning, we offer him an incentive of \\$100, to make him stay longer with the operator. This is a loss for the company of \\$100 that is less dramatic than loosing \\$1,000.  \n",
    "Not all customers that are receiving the \\$100 offer will accept it. We suppose to have a 50% chance the customer accept the offer, which in term of mean loss, is \\$550 per customer that is detected to churn and decide to stay 0.5 x \\$1,000 + 0.5 x \\$100.  \n",
    "\n",
    "Here I summarize the churn costs in a confusion matrix way:\n",
    "- TP costs the company \\$550\n",
    "- TN costs the company \\$0\n",
    "- FP costs the company \\$100\n",
    "- FN costs the company \\$1,000\n",
    "\n",
    "Our ultimate predictor must minimize the total churn cost given the costs list below. For calculation convenience, we will devide the total cost by the number of customers and minimize the churn cost per customer (CCpC).   \n",
    "\n",
    "## Helper Functions\n",
    "\n",
    "- Following function calculates the CCpC given an estimator, the input/output values, and returns the minimum churn cost per customer, and the corresponding probability threshold:\n"
   ]
  },
  {
   "cell_type": "code",
   "execution_count": 9,
   "metadata": {
    "collapsed": true
   },
   "outputs": [],
   "source": [
    "from sklearn.metrics import confusion_matrix\n",
    "from sklearn.grid_search import GridSearchCV\n",
    "\n",
    "# Confusion matrix cost\n",
    "cmc = np.array([[0, 1000], [100, 550]])\n",
    "\n",
    "# Get the confusion matrix as costs\n",
    "def confusion_matrix_cost(Y_pred, Y_obs):\n",
    "    return confusion_matrix(Y_pred, Y_obs, labels = [0, 1]) * cmc\n",
    "\n",
    "# Calculate the total Churn Cost per Customer given Y predicted and observed\n",
    "def calculate_ccpc(Y_pred, Y_obs):\n",
    "    return np.sum(confusion_matrix_cost(Y_pred, Y_obs)) / float(len(Y_obs))\n",
    "\n",
    "# Calculate accuracy by looking at the mean of correct predictions\n",
    "# Y observed and predicted can be given in any order\n",
    "def calculate_accuracy(Y_1, Y_2):\n",
    "    return np.mean(np.logical_not(np.logical_xor(Y_1, Y_2)).astype(int))\n",
    "\n",
    "# Predict churn given a probabilistic threshold t\n",
    "def predict_with_threshold(model, X, t=0.5):\n",
    "    return (model.predict_proba(X)[:,1] >= t).astype(int)\n",
    "\n",
    "# Get the min churn cost per customer, and the associated probability threshold\n",
    "def churn_cost_per_customer_and_threshold(model, X, Y):\n",
    "    min_cost, optimal_t = np.max(cmc), 0\n",
    "    \n",
    "    for t in np.arange(0, 1.01, 0.01):\n",
    "        Y_predicted = predict_with_threshold(model, X, t)\n",
    "        ccpc = calculate_ccpc(Y_predicted, Y)\n",
    "        \n",
    "        if ccpc < min_cost:\n",
    "            min_cost = ccpc\n",
    "            optimal_t = t\n",
    "    \n",
    "    return min_cost, optimal_t\n",
    "\n",
    "# Only the churn cost per customer\n",
    "def churn_cost_per_customer(model, X, Y):\n",
    "    return churn_cost_per_customer_and_threshold(model, X, Y)[0]\n",
    "\n",
    "# Scorer used in GridSearchCV that minimizes the churn_cost_per_customer (=> maximize the inverse)\n",
    "def scorer_based_on_churn_cost_per_customer(model, X, Y):\n",
    "    return 1.0 / churn_cost_per_customer(model, X, Y)\n",
    "\n",
    "# POC plot function\n",
    "import matplotlib.pyplot as plt\n",
    "def plot_roc(scores, max_score, max_score_threshold):\n",
    "    # plot\n",
    "    thresholds = np.arange(0, 1.01, 0.01) \n",
    "    plt.plot(thresholds, scores, label = 'Evolution of score')\n",
    "\n",
    "    # plot the cross pt\n",
    "    plt.plot([0, max_score_threshold], [max_score, max_score], color = 'r', alpha = 0.2, label = 'Max score')\n",
    "    plt.plot([max_score_threshold, max_score_threshold], [0, max_score], 'r--', alpha = 0.2)\n",
    "    plt.plot([max_score_threshold], [max_score], 'bo')\n",
    "\n",
    "    # helper box\n",
    "    plt.legend()\n",
    "    plt.ylim(0, 1)\n",
    "    plt.xlabel('Probability Threshold')\n",
    "    plt.ylabel('Model accuracy')\n",
    "    plt.title('Evolution of model accuracy depending on probability threshold')\n",
    "    plt.show()"
   ]
  },
  {
   "cell_type": "markdown",
   "metadata": {},
   "source": [
    "# 5. Build Model\n",
    "\n",
    "## Base Model\n",
    "\n",
    "To better judge on the churn costs per customer, let's consider two extreme cases: The first one is about a dummy estimator that predicts all customers are churning, and an other one with no customers churning."
   ]
  },
  {
   "cell_type": "code",
   "execution_count": 10,
   "metadata": {
    "collapsed": false
   },
   "outputs": [
    {
     "name": "stdout",
     "output_type": "stream",
     "text": [
      "Churn cost per customer All churn = 165.442278861\n",
      "Churn cost per customer No churn = 145.427286357\n"
     ]
    }
   ],
   "source": [
    "ccpc_all_churn = calculate_ccpc(np.ones(len(Y_test)), Y_test)\n",
    "ccpc_no_churn = calculate_ccpc(np.zeros(len(Y_test)), Y_test)\n",
    "\n",
    "print(\"Churn cost per customer All churn = \" + str(ccpc_all_churn))\n",
    "print(\"Churn cost per customer No churn = \" + str(ccpc_no_churn))"
   ]
  },
  {
   "cell_type": "markdown",
   "metadata": {},
   "source": [
    "## Logistic Regression - Normal"
   ]
  },
  {
   "cell_type": "code",
   "execution_count": 11,
   "metadata": {
    "collapsed": false
   },
   "outputs": [
    {
     "name": "stdout",
     "output_type": "stream",
     "text": [
      "Using LR params {'penalty': 'l1', 'C': 1} produce the best model accuracy: 0.864591\n",
      "Accuracy on training data = 0.870218\n",
      "Accuracy on test data = 0.859070\n"
     ]
    }
   ],
   "source": [
    "from sklearn.linear_model import LogisticRegression\n",
    "\n",
    "lr_cf = LogisticRegression()\n",
    "lr_gs = GridSearchCV(lr_cf, param_grid={'C': [10**i for i in range(-3, 3)], 'penalty': ['l1', 'l2']}, cv=5)\n",
    "lr_gs.fit(X_train, Y_train)\n",
    "lr_est = lr_gs.best_estimator_\n",
    "\n",
    "print(\"Using LR params %s produce the best model accuracy: %f\" % (lr_gs.best_params_, lr_gs.best_score_))\n",
    "print(\"Accuracy on training data = %f\" % lr_est.score(X_train, Y_train))\n",
    "print(\"Accuracy on test data = %f\" % lr_est.score(X_test, Y_test))"
   ]
  },
  {
   "cell_type": "markdown",
   "metadata": {},
   "source": [
    "- The accuracy on the test dataset is aproximately the same as our dummy estimator.\n",
    "    + the optimal hyperparameters of the logistic regression model, did worse than just predicting all customers as not churning (our dummy estimator)\n",
    "    + the problem comes from the accuracy of the prediction, that uses a probability threshold of 0.5 in an unbalanced dataset.\n",
    "    + find the probability threshold that maximizes accuracy.\n",
    "    + plotting the evolution of our LR estimator (with hyperparameters as found with grid search) on different probability thresholds."
   ]
  },
  {
   "cell_type": "code",
   "execution_count": 12,
   "metadata": {
    "collapsed": false
   },
   "outputs": [
    {
     "name": "stdout",
     "output_type": "stream",
     "text": [
      "Max accuracy occurs at probability threshold 0.53, with score of 0.87\n",
      "Churn Cost Per Costomer 134.78\n"
     ]
    },
    {
     "data": {
      "image/png": "[encoded data removed]",
      "text/plain": [
       "<matplotlib.figure.Figure at 0x7fc8b6be6050>"
      ]
     },
     "metadata": {},
     "output_type": "display_data"
    }
   ],
   "source": [
    "# The prob. thresholds\n",
    "thresholds = np.arange(0, 1.01, 0.01) \n",
    "scores = []\n",
    "\n",
    "for t in thresholds:\n",
    "    Y_predicted = predict_with_threshold(lr_est, X_test, t)\n",
    "    right_predictions = (Y_predicted == Y_test.values)\n",
    "    scores.append(np.mean(right_predictions.astype(int)))\n",
    "\n",
    "# Getting the threshold that maximizes the score\n",
    "max_score, max_score_threshold = np.max(scores), thresholds[np.argmax(scores)] # argmax returnx idx in scores\n",
    "print(\"Max accuracy occurs at probability threshold %0.2f, with score of %0.2f\" % (max_score_threshold, max_score))\n",
    "print(\"Churn Cost Per Costomer %0.2f\" % calculate_ccpc(predict_with_threshold(lr_est, X_test, max_score_threshold), Y_test))\n",
    "\n",
    "# plot roc\n",
    "plot_roc(scores, max_score, max_score_threshold)"
   ]
  },
  {
   "cell_type": "markdown",
   "metadata": {},
   "source": [
    "# Use the churn cost per customer to find the best estimation.\n",
    "\n",
    "## Logistic Regression - using churn cost per customer"
   ]
  },
  {
   "cell_type": "code",
   "execution_count": 13,
   "metadata": {
    "collapsed": false
   },
   "outputs": [
    {
     "name": "stdout",
     "output_type": "stream",
     "text": [
      "Using LR params {'penalty': 'l1', 'C': 1} help get the minimum CCpC\n"
     ]
    }
   ],
   "source": [
    "lr_gs = GridSearchCV(lr_cf, \n",
    "                     param_grid={'C': [10**i for i in range(-3, 3)], 'penalty': ['l1', 'l2']}, \n",
    "                     cv=5, \n",
    "                     scoring=scorer_based_on_churn_cost_per_customer)\n",
    "lr_gs.fit(X_train, Y_train)\n",
    "lr_est = lr_gs.best_estimator_\n",
    "print(\"Using LR params %s help get the minimum CCpC\" % lr_gs.best_params_)"
   ]
  },
  {
   "cell_type": "code",
   "execution_count": 14,
   "metadata": {
    "collapsed": false
   },
   "outputs": [
    {
     "name": "stdout",
     "output_type": "stream",
     "text": [
      "Max accuracy occurs at probability threshold 0.53, with score of 0.87\n",
      "Churn Cost Per Costomer 134.78\n"
     ]
    },
    {
     "data": {
      "image/png": "[encoded data removed]",
      "text/plain": [
       "<matplotlib.figure.Figure at 0x7fc8b6bfbc50>"
      ]
     },
     "metadata": {},
     "output_type": "display_data"
    }
   ],
   "source": [
    "# The prob. thresholds\n",
    "thresholds = np.arange(0, 1.01, 0.01) \n",
    "scores = []\n",
    "\n",
    "for t in thresholds:\n",
    "    Y_predicted = predict_with_threshold(lr_est, X_test, t)\n",
    "    right_predictions = (Y_predicted == Y_test.values)\n",
    "    scores.append(np.mean(right_predictions.astype(int)))\n",
    "\n",
    "# Getting the threshold that maximizes the score\n",
    "max_score, max_score_threshold = np.max(scores), thresholds[np.argmax(scores)] # argmax returnx idx in scores\n",
    "print(\"Max accuracy occurs at probability threshold %0.2f, with score of %0.2f\" % (max_score_threshold, max_score))\n",
    "print(\"Churn Cost Per Costomer %0.2f\" % calculate_ccpc(predict_with_threshold(lr_est, X_test, max_score_threshold), Y_test))\n",
    "\n",
    "# plot roc\n",
    "plot_roc(scores, max_score, max_score_threshold)"
   ]
  },
  {
   "cell_type": "markdown",
   "metadata": {},
   "source": [
    "## Randome Forest"
   ]
  },
  {
   "cell_type": "code",
   "execution_count": null,
   "metadata": {
    "collapsed": false
   },
   "outputs": [
    {
     "name": "stdout",
     "output_type": "stream",
     "text": [
      "Using RF params {'n_estimators': 500} produce the best model accuracy: 0.010669\n",
      "Accuracy on training data = 1.000000\n",
      "Accuracy on test data = 0.941529\n"
     ]
    }
   ],
   "source": [
    "from sklearn.ensemble import RandomForestClassifier\n",
    "\n",
    "rf_cf = RandomForestClassifier(n_jobs=-1)\n",
    "rf_gs = GridSearchCV(rf_cf, param_grid={'n_estimators': [100, 500]}, \n",
    "                     cv=5, \n",
    "                     scoring=scorer_based_on_churn_cost_per_customer)\n",
    "rf_gs.fit(X_train, Y_train)\n",
    "rf_est = rf_gs.best_estimator_\n",
    "\n",
    "print \"Using RF params %s produce the best model accuracy: %f\" % (rf_gs.best_params_, rf_gs.best_score_)\n",
    "print \"Accuracy on training data = %f\" % rf_est.score(X_train, Y_train)\n",
    "print \"Accuracy on test data = %f\" % rf_est.score(X_test, Y_test)"
   ]
  },
  {
   "cell_type": "code",
   "execution_count": null,
   "metadata": {
    "collapsed": true
   },
   "outputs": [],
   "source": [
    "# The prob. thresholds\n",
    "thresholds = np.arange(0, 1.01, 0.01) \n",
    "scores = []\n",
    "\n",
    "for t in thresholds:\n",
    "    Y_predicted = predict_with_threshold(rf_est, X_test, t)\n",
    "    right_predictions = (Y_predicted == Y_test.values)\n",
    "    scores.append(np.mean(right_predictions.astype(int)))\n",
    "\n",
    "# Getting the threshold that maximizes the score\n",
    "max_score, max_score_threshold = np.max(scores), thresholds[np.argmax(scores)] # argmax returnx idx in scores\n",
    "print(\"Max accuracy occurs at probability threshold %0.2f, with score of %0.2f\" % (max_score_threshold, max_score))\n",
    "print(\"Churn Cost Per Costomer %0.2f\" % calculate_ccpc(predict_with_threshold(rf_est, X_test, max_score_threshold), Y_test))\n",
    "\n",
    "# plot roc\n",
    "plot_roc(scores, max_score, max_score_threshold)"
   ]
  },
  {
   "cell_type": "markdown",
   "metadata": {},
   "source": [
    "## Naive Bayes"
   ]
  },
  {
   "cell_type": "code",
   "execution_count": null,
   "metadata": {
    "collapsed": true
   },
   "outputs": [],
   "source": [
    "from sklearn.naive_bayes import GaussianNB\n",
    "\n",
    "nb_cf = GaussianNB()\n",
    "nb_gs = GridSearchCV(nb_cf, \n",
    "                     param_grid={}, \n",
    "                     cv=5, \n",
    "                     scoring=scorer_based_on_churn_cost_per_customer)\n",
    "nb_gs.fit(X_train, Y_train)\n",
    "nb_est = nb_gs.best_estimator_\n",
    "\n",
    "print \"Accuracy on training data = %f\" % nb_est.score(X_train, Y_train)\n",
    "print \"Accuracy on test data = %f\" % nb_est.score(X_test, Y_test)"
   ]
  },
  {
   "cell_type": "code",
   "execution_count": null,
   "metadata": {
    "collapsed": true
   },
   "outputs": [],
   "source": [
    "# The prob. thresholds\n",
    "thresholds = np.arange(0, 1.01, 0.01) \n",
    "scores = []\n",
    "\n",
    "for t in thresholds:\n",
    "    Y_predicted = predict_with_threshold(nb_est, X_test, t)\n",
    "    right_predictions = (Y_predicted == Y_test.values)\n",
    "    scores.append(np.mean(right_predictions.astype(int)))\n",
    "\n",
    "# Getting the threshold that maximizes the score\n",
    "max_score, max_score_threshold = np.max(scores), thresholds[np.argmax(scores)] # argmax returnx idx in scores\n",
    "print(\"Max accuracy occurs at probability threshold %0.2f, with score of %0.2f\" % (max_score_threshold, max_score))\n",
    "print(\"Churn Cost Per Costomer %0.2f\" % calculate_ccpc(predict_with_threshold(nb_est, X_test, max_score_threshold), Y_test))\n",
    "\n",
    "# plot roc\n",
    "plot_roc(scores, max_score, max_score_threshold)"
   ]
  },
  {
   "cell_type": "markdown",
   "metadata": {},
   "source": [
    "# 6. Visualizing churn cost per customer of the three estimators"
   ]
  },
  {
   "cell_type": "code",
   "execution_count": null,
   "metadata": {
    "collapsed": true
   },
   "outputs": [],
   "source": [
    "thresholds = np.arange(0, 1.01, 0.01)\n",
    "\n",
    "lr_ccpc = [calculate_ccpc(predict_with_threshold(lr_est, X_test, t), Y_test) for t in thresholds]\n",
    "rf_ccpc = [calculate_ccpc(predict_with_threshold(rf_est, X_test, t), Y_test) for t in thresholds]\n",
    "nb_ccpc = [calculate_ccpc(predict_with_threshold(nb_est, X_test, t), Y_test) for t in thresholds]\n",
    "\n",
    "plt.plot(thresholds, lr_ccpc, color = '#0090ff', label = \"Logistic Regression Estimator\")\n",
    "plt.plot(thresholds, rf_ccpc, color = '#aa4400', label = \"Random Forest Estimator\")\n",
    "plt.plot(thresholds, nb_ccpc, color = '#44aa00', label = \"Naive Bayes Estimator\")\n",
    "plt.legend(loc = 'lower right')\n",
    "plt.xlabel('Probability Threshold')\n",
    "plt.ylabel('Churn Cost per Customer')\n",
    "plt.title('Evolution of CCpC per probability threshold of the three estimators')\n",
    "plt.show()"
   ]
  },
  {
   "cell_type": "code",
   "execution_count": null,
   "metadata": {
    "collapsed": true
   },
   "outputs": [],
   "source": [
    "print \"Min CCpC for RF estimator is $%3.2f\" % np.min(rf_ccpc)\n",
    "print \"Corresponding probability threshold is %0.2f\" % thresholds[np.argmin(rf_ccpc)]"
   ]
  },
  {
   "cell_type": "markdown",
   "metadata": {},
   "source": [
    "# 7. Conclusion\n",
    "\n",
    "- In our study, we have 3333 customers. As we need \\$92.65 for every customer in order to cover the customers churn.\n",
    "    + need to have ~\\$318,000 at hand to cover churn costs. \n",
    "- Not predicting churns (not having any predictor) will require ~\\$480,000 at hand to cover the same population potential churns! \n",
    "    + reduction of cost of ~\\$48.50 per customer for the company.\n",
    "\n",
    "In this study, we found out that the importance of using the cost reduction of customer churns as a performance measure of the estimator, rather than just using the accuracy of the churn estimator.  \n",
    "This led to completely different estimators, that perform completely differently.  \n",
    "In a business objective point of view, using cost reduction takes more sense.  \n",
    "This shows how important it is to have domain knowledge in order to better discuss the objectives and explain results.  \n",
    "Using our churn predictor, the company makes \\$48.50 saving per customer! If the company has 10,000,000 customers, and using our estimator, it could save \\$485M!"
   ]
  }
 ],
 "metadata": {
  "kernelspec": {
   "display_name": "Python 2",
   "language": "python",
   "name": "python2"
  },
  "language_info": {
   "codemirror_mode": {
    "name": "ipython",
    "version": 2
   },
   "file_extension": ".py",
   "mimetype": "text/x-python",
   "name": "python",
   "nbconvert_exporter": "python",
   "pygments_lexer": "ipython2",
   "version": "2.7.12"
  }
 },
 "nbformat": 4,
 "nbformat_minor": 1
}
