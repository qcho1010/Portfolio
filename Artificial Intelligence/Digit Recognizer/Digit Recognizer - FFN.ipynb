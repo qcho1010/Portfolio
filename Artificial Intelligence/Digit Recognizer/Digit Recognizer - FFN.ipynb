{
 "cells": [
  {
   "cell_type": "markdown",
   "metadata": {},
   "source": [
    "# Digit Recognizer - Feed Foward Net\n",
    "\n",
    "**Kyu Cho**  \n",
    "**10/28/2016**"
   ]
  },
  {
   "cell_type": "markdown",
   "metadata": {},
   "source": [
    "# Data\n",
    "- Each image is 28 pixels in height and 28 pixels in width, for a total of 784 pixels in total. \n",
    "- Each pixel has a single pixel-value associated with it, indicating the lightness or darkness of that pixel, with higher numbers meaning darker. This pixel-value is an integer between 0 and 255, inclusive.  \n",
    "  \n",
    "- The training data set, (train.csv), has 785 columns. \n",
    "- The first column, called \"label\", is the digit that was drawn by the user. \n",
    "- The rest of the columns contain the pixel-values of the associated image.  \n",
    "  \n",
    "- Each pixel column in the training set has a name like pixelx, where x is an integer between 0 and 783, inclusive. \n",
    "- To locate this pixel on the image, suppose that we have decomposed x as x = i * 28 + j, where i and j are integers between 0 and 27, inclusive. \n",
    "- Then pixelx is located on row i and column j of a 28 x 28 matrix, (indexing by zero).\n",
    "    + For example, pixel31 indicates the pixel that is in the fourth column from the left, and the second row from the top, as in the ascii-diagram below.\n",
    "\n",
    "000 001 002 003 ... 026 027  \n",
    "028 029 030 031 ... 054 055  \n",
    "056 057 058 059 ... 082 083  \n",
    " |   |   |   |  ...  |   |  \n",
    "728 729 730 731 ... 754 755  \n",
    "756 757 758 759 ... 782 783   "
   ]
  },
  {
   "cell_type": "markdown",
   "metadata": {},
   "source": [
    "# Techniques Used"
   ]
  },
  {
   "cell_type": "markdown",
   "metadata": {},
   "source": [
    "1. Feed Forward\n",
    "2. TODO: Drop out\n",
    "3. Nesterov and RMSprop\n",
    "4. Ragulization\n",
    "5. Learning Rate\n",
    "6. Batch Gradient\n",
    "7. Normalization or PCA"
   ]
  },
  {
   "cell_type": "markdown",
   "metadata": {},
   "source": [
    "# Table of Contents\n",
    "1. Load Data\n",
    "2. Split Data\n",
    "3. Function initialization\n",
    "4. Build Model"
   ]
  },
  {
   "cell_type": "markdown",
   "metadata": {},
   "source": [
    "## Load Data"
   ]
  },
  {
   "cell_type": "code",
   "execution_count": 3,
   "metadata": {
    "collapsed": false
   },
   "outputs": [],
   "source": [
    "import matplotlib.pyplot as plt\n",
    "%matplotlib inline\n",
    "import numpy as np\n",
    "import pandas as pd\n",
    "\n",
    "def get_normalized_data():\n",
    "    print \"Reading in and transforming data...\"\n",
    "    df = pd.read_csv('../large_files/train.csv')\n",
    "    \n",
    "    data = df.as_matrix().astype(np.float32)\n",
    "    np.random.shuffle(data)\n",
    "    \n",
    "    Y = data[:, 0]\n",
    "    X = data[:, 1:]\n",
    "    \n",
    "    mu = X.mean(axis=0)\n",
    "    std = X.std(axis=0)\n",
    "    np.place(std, std == 0, 1)\n",
    "    X = (X - mu) / std # normalize the data\n",
    "    \n",
    "    return X, Y"
   ]
  },
  {
   "cell_type": "code",
   "execution_count": 4,
   "metadata": {
    "collapsed": false
   },
   "outputs": [
    {
     "name": "stdout",
     "output_type": "stream",
     "text": [
      "Reading in and transforming data...\n"
     ]
    },
    {
     "data": {
      "text/plain": [
       "((42000, 784), (42000,))"
      ]
     },
     "execution_count": 4,
     "metadata": {},
     "output_type": "execute_result"
    }
   ],
   "source": [
    "X, Y = get_normalized_data()\n",
    "X.shape, Y.shape"
   ]
  },
  {
   "cell_type": "markdown",
   "metadata": {},
   "source": [
    "## Split train and test set"
   ]
  },
  {
   "cell_type": "code",
   "execution_count": 5,
   "metadata": {
    "collapsed": true
   },
   "outputs": [],
   "source": [
    "Xtrain = X[:-1000,]\n",
    "Ytrain = Y[:-1000]\n",
    "Xtest  = X[-1000:,]\n",
    "Ytest  = Y[-1000:]"
   ]
  },
  {
   "cell_type": "code",
   "execution_count": 6,
   "metadata": {
    "collapsed": false
   },
   "outputs": [
    {
     "data": {
      "text/plain": [
       "((41000, 784), (41000,))"
      ]
     },
     "execution_count": 6,
     "metadata": {},
     "output_type": "execute_result"
    }
   ],
   "source": [
    "Xtrain.shape, Ytrain.shape"
   ]
  },
  {
   "cell_type": "code",
   "execution_count": 7,
   "metadata": {
    "collapsed": false
   },
   "outputs": [],
   "source": [
    "# create indicator matrix, represent digit in location for each row\n",
    "# ex) digit 9 -> indicate 1 in 9th column\n",
    "def y2indicator(y):\n",
    "    N = len(y)\n",
    "    ind = np.zeros((N, 10)) # digit has 0 to 9 (10 number)\n",
    "    for i in xrange(N):\n",
    "        ind[i, y[i]] = 1\n",
    "    return ind"
   ]
  },
  {
   "cell_type": "code",
   "execution_count": 8,
   "metadata": {
    "collapsed": false
   },
   "outputs": [
    {
     "name": "stderr",
     "output_type": "stream",
     "text": [
      "/usr/local/lib/python2.7/dist-packages/ipykernel/__main__.py:7: VisibleDeprecationWarning: using a non-integer number instead of an integer will result in an error in the future\n"
     ]
    }
   ],
   "source": [
    "Ytrain_ind = y2indicator(Ytrain)\n",
    "Ytest_ind = y2indicator(Ytest)"
   ]
  },
  {
   "cell_type": "markdown",
   "metadata": {},
   "source": [
    "## Initialization"
   ]
  },
  {
   "cell_type": "markdown",
   "metadata": {},
   "source": [
    "### Derivative function"
   ]
  },
  {
   "cell_type": "code",
   "execution_count": 9,
   "metadata": {
    "collapsed": true
   },
   "outputs": [],
   "source": [
    "# Z(last weight), T(target Y), T(predicted Y)\n",
    "def derivative_w2(Z, T, Y):\n",
    "    return Z.T.dot(Y - T)\n",
    "\n",
    "def derivative_b2(T, Y):\n",
    "    return (Y - T).sum(axis=0)\n",
    "\n",
    "def derivative_w1(X, Z, T, Y, W2):\n",
    "    # return X.T.dot(((Y-T).dot(W2.T) * (Z*(1-Z)))) # for sigmoid\n",
    "    return X.T.dot(((Y-T).dot(W2.T) * np.sign(Z))) # for relu\n",
    "\n",
    "def derivative_b1(Z, T, Y, W2):\n",
    "    # return ((Y-T).dot(W2.T) * (Z*(1-Z))).sum(axis=0) # for sigmoid\n",
    "    return ((Y-T).dot(W2.T) * np.sign(Z)).sum(axis=0) # for relu"
   ]
  },
  {
   "cell_type": "markdown",
   "metadata": {},
   "source": [
    "### Feed Foward and Cost function"
   ]
  },
  {
   "cell_type": "code",
   "execution_count": 10,
   "metadata": {
    "collapsed": true
   },
   "outputs": [],
   "source": [
    "def forward(X, W1, b1, W2, b2):\n",
    "    Z = X.dot(W1) + b1 # 1st layer\n",
    "    Z[Z < 0] = 0 # rulu or rectifier\n",
    "\n",
    "    A = Z.dot(W2) + b2 # 2nd layer\n",
    "    \n",
    "    # softmax\n",
    "    expA = np.exp(A)\n",
    "    Y = expA / expA.sum(axis=1, keepdims=True) \n",
    "    \n",
    "    return Y, Z\n",
    "\n",
    "def cost(p_y, t):\n",
    "    tot = t * np.log(p_y)\n",
    "    return -tot.sum()\n",
    "\n",
    "def predict(p_y):\n",
    "    return np.argmax(p_y, axis=1)\n",
    "\n",
    "def error_rate(p_y, t):\n",
    "    prediction = predict(p_y)\n",
    "    return np.mean(prediction != t)"
   ]
  },
  {
   "cell_type": "markdown",
   "metadata": {},
   "source": [
    "## Build Model"
   ]
  },
  {
   "cell_type": "code",
   "execution_count": 11,
   "metadata": {
    "collapsed": false
   },
   "outputs": [],
   "source": [
    "def ANN(n_hdim):\n",
    "    # Nesterov momentum\n",
    "    \n",
    "    # initialize hyper-parameters\n",
    "    max_iter = 5  # 30 iteration for sigmoid\n",
    "    print_period = 100 # print every 10 iterations\n",
    "    lr = 0.00004 # learning rate\n",
    "    reg = 0.01 # regulization rate\n",
    "    batch_sz = 1000 # batch size\n",
    "    N, D = Xtrain.shape # 41000, 784\n",
    "    n_batches = N / batch_sz  # number of batches\n",
    "    M = n_hdim # hidden layer dimention\n",
    "\n",
    "    K = 10 # number of output '0' to '9' so 10 numbers\n",
    "\n",
    "    # initialize weight and bias\n",
    "    W1 = np.random.randn(D, M) / np.sqrt(D)  # 784x300\n",
    "    b1 = np.zeros(M)\n",
    "    W2 = np.random.randn(M, K) / np.sqrt(M)  # 300x10\n",
    "    b2 = np.zeros(K)\n",
    "\n",
    "    LL_nest = []\n",
    "    CR_nest = []\n",
    "    mu = 0.9\n",
    "    dW2 = 0\n",
    "    db2 = 0\n",
    "    dW1 = 0\n",
    "    db1 = 0\n",
    "\n",
    "    for i in xrange(max_iter):\n",
    "        for j in xrange(n_batches):\n",
    "            Xbatch = Xtrain[j*batch_sz:(j*batch_sz + batch_sz),]\n",
    "            Ybatch = Ytrain_ind[j*batch_sz:(j*batch_sz + batch_sz),]\n",
    "            pYbatch, Z = forward(Xbatch, W1, b1, W2, b2)\n",
    "\n",
    "            # updates from backword w2\n",
    "            dW2 = mu*mu*dW2 - (1 + mu)*lr*(derivative_w2(Z, Ybatch, pYbatch) + reg*W2)\n",
    "            W2 += dW2\n",
    "            db2 = mu*mu*db2 - (1 + mu)*lr*(derivative_b2(Ybatch, pYbatch) + reg*b2)\n",
    "            b2 += db2\n",
    "            dW1 = mu*mu*dW1 - (1 + mu)*lr*(derivative_w1(Xbatch, Z, Ybatch, pYbatch, W2) + reg*W1)\n",
    "            W1 += dW1\n",
    "            db1 = mu*mu*db1 - (1 + mu)*lr*(derivative_b1(Z, Ybatch, pYbatch, W2) + reg*b1)\n",
    "            b1 += db1\n",
    "\n",
    "            if j % print_period == 0:\n",
    "                # calculate just for LL\n",
    "                pY, _ = forward(Xtest, W1, b1, W2, b2)\n",
    "                # print \"pY:\", pY\n",
    "                ll = cost(pY, Ytest_ind)\n",
    "                LL_nest.append(ll)\n",
    "                print \"[Nesterov] Cost at iteration i=%d, j=%d: %.6f\" % (i, j, ll)\n",
    "\n",
    "                err = error_rate(pY, Ytest)\n",
    "                CR_nest.append(err)\n",
    "                print \"Error rate:\", err\n",
    "    pY, _ = forward(Xtest, W1, b1, W2, b2)\n",
    "    print \"Final error rate:\", error_rate(pY, Ytest)\n",
    "\n",
    "    \n",
    "    # RMSprop\n",
    "    \n",
    "    W1 = np.random.randn(D, M) / np.sqrt(D)\n",
    "    b1 = np.zeros(M)\n",
    "    W2 = np.random.randn(M, K) / np.sqrt(M)\n",
    "    b2 = np.zeros(K)\n",
    "    \n",
    "    LL_rms = []\n",
    "    CR_rms = []\n",
    "    lr0 = 0.001 # if you set this too high you'll get NaN!\n",
    "    cache_W2 = 0\n",
    "    cache_b2 = 0\n",
    "    cache_W1 = 0\n",
    "    cache_b1 = 0\n",
    "    decay_rate = 0.999\n",
    "    eps = 0.0000000001\n",
    "    for i in xrange(max_iter):\n",
    "        for j in xrange(n_batches):\n",
    "            Xbatch = Xtrain[j*batch_sz:(j*batch_sz + batch_sz),]\n",
    "            Ybatch = Ytrain_ind[j*batch_sz:(j*batch_sz + batch_sz),]\n",
    "            pYbatch, Z = forward(Xbatch, W1, b1, W2, b2)\n",
    "\n",
    "            # updates\n",
    "            gW2 = derivative_w2(Z, Ybatch, pYbatch) + reg*W2\n",
    "            cache_W2 = decay_rate*cache_W2 + (1 - decay_rate)*gW2*gW2\n",
    "            W2 -= lr0 * gW2 / (np.sqrt(cache_W2) + eps)\n",
    "\n",
    "            gb2 = derivative_b2(Ybatch, pYbatch) + reg*b2\n",
    "            cache_b2 = decay_rate*cache_b2 + (1 - decay_rate)*gb2*gb2\n",
    "            b2 -= lr0 * gb2 / (np.sqrt(cache_b2) + eps)\n",
    "\n",
    "            gW1 = derivative_w1(Xbatch, Z, Ybatch, pYbatch, W2) + reg*W1\n",
    "            cache_W1 = decay_rate*cache_W1 + (1 - decay_rate)*gW1*gW1\n",
    "            W1 -= lr0 * gW1 / (np.sqrt(cache_W1) + eps)\n",
    "\n",
    "            gb1 = derivative_b1(Z, Ybatch, pYbatch, W2) + reg*b1\n",
    "            cache_b1 = decay_rate*cache_b1 + (1 - decay_rate)*gb1*gb1\n",
    "            b1 -= lr0 * gb1 / (np.sqrt(cache_b1) + eps)\n",
    "\n",
    "            if j % print_period == 0:\n",
    "                # calculate just for LL\n",
    "                pY, _ = forward(Xtest, W1, b1, W2, b2)\n",
    "                # print \"pY:\", pY\n",
    "                ll = cost(pY, Ytest_ind)\n",
    "                LL_rms.append(ll)\n",
    "                print \"[RMSprop] Cost at iteration i=%d, j=%d: %.6f\" % (i, j, ll)\n",
    "\n",
    "                err = error_rate(pY, Ytest)\n",
    "                CR_rms.append(err)\n",
    "                print \"Error rate:\", err\n",
    "\n",
    "    pY, _ = forward(Xtest, W1, b1, W2, b2)\n",
    "    print \"Final error rate:\", error_rate(pY, Ytest)\n",
    "\n",
    "    plt.plot(LL_nest, label=\"nesterov\")\n",
    "    plt.plot(LL_rms, label='rms')\n",
    "    plt.legend()\n",
    "    plt.show()"
   ]
  },
  {
   "cell_type": "code",
   "execution_count": 12,
   "metadata": {
    "collapsed": false
   },
   "outputs": [
    {
     "name": "stdout",
     "output_type": "stream",
     "text": [
      "[Nesterov] Cost at iteration i=0, j=0: 2271.052469\n",
      "Error rate: 0.848\n",
      "[Nesterov] Cost at iteration i=1, j=0: 231.862098\n",
      "Error rate: 0.065\n",
      "[Nesterov] Cost at iteration i=2, j=0: 179.244283\n",
      "Error rate: 0.051\n",
      "[Nesterov] Cost at iteration i=3, j=0: 152.886985\n",
      "Error rate: 0.048\n",
      "[Nesterov] Cost at iteration i=4, j=0: 137.513014\n",
      "Error rate: 0.042\n",
      "Final error rate: 0.04\n",
      "[RMSprop] Cost at iteration i=0, j=0: 1299.770248\n",
      "Error rate: 0.332\n",
      "[RMSprop] Cost at iteration i=1, j=0: 142.045097\n",
      "Error rate: 0.04\n",
      "[RMSprop] Cost at iteration i=2, j=0: 114.654678\n",
      "Error rate: 0.03\n",
      "[RMSprop] Cost at iteration i=3, j=0: 105.590717\n",
      "Error rate: 0.032\n",
      "[RMSprop] Cost at iteration i=4, j=0: 101.233008\n",
      "Error rate: 0.03\n",
      "Final error rate: 0.029\n"
     ]
    },
    {
     "data": {
      "image/png": "[encoded data removed]",
      "text/plain": [
       "<matplotlib.figure.Figure at 0x7f501c59ae10>"
      ]
     },
     "metadata": {},
     "output_type": "display_data"
    },
    {
     "name": "stdout",
     "output_type": "stream",
     "text": [
      "[Nesterov] Cost at iteration i=0, j=0: 2164.714889\n",
      "Error rate: 0.804\n",
      "[Nesterov] Cost at iteration i=1, j=0: 228.474215\n",
      "Error rate: 0.065\n",
      "[Nesterov] Cost at iteration i=2, j=0: 179.365309\n",
      "Error rate: 0.048\n",
      "[Nesterov] Cost at iteration i=3, j=0: 155.718158\n",
      "Error rate: 0.043\n",
      "[Nesterov] Cost at iteration i=4, j=0: 142.466788\n",
      "Error rate: 0.037\n",
      "Final error rate: 0.035\n",
      "[RMSprop] Cost at iteration i=0, j=0: 4883.351719\n",
      "Error rate: 0.453\n",
      "[RMSprop] Cost at iteration i=1, j=0: 219.252411\n",
      "Error rate: 0.054\n",
      "[RMSprop] Cost at iteration i=2, j=0: 116.293336\n",
      "Error rate: 0.033\n",
      "[RMSprop] Cost at iteration i=3, j=0: 105.069615\n",
      "Error rate: 0.031\n",
      "[RMSprop] Cost at iteration i=4, j=0: 130.141062\n",
      "Error rate: 0.029\n",
      "Final error rate: 0.032\n"
     ]
    },
    {
     "data": {
      "image/png": "[encoded data removed]",
      "text/plain": [
       "<matplotlib.figure.Figure at 0x7f4fe8791050>"
      ]
     },
     "metadata": {},
     "output_type": "display_data"
    },
    {
     "name": "stdout",
     "output_type": "stream",
     "text": [
      "[Nesterov] Cost at iteration i=0, j=0: 2043.469486\n",
      "Error rate: 0.684\n",
      "[Nesterov] Cost at iteration i=1, j=0: 216.948907\n",
      "Error rate: 0.058\n",
      "[Nesterov] Cost at iteration i=2, j=0: 173.036703\n",
      "Error rate: 0.046\n",
      "[Nesterov] Cost at iteration i=3, j=0: 151.952908\n",
      "Error rate: 0.039\n",
      "[Nesterov] Cost at iteration i=4, j=0: 140.219855\n",
      "Error rate: 0.038\n",
      "Final error rate: 0.036\n",
      "[RMSprop] Cost at iteration i=0, j=0: 7075.368585\n",
      "Error rate: 0.337\n",
      "[RMSprop] Cost at iteration i=1, j=0: 414.306987\n",
      "Error rate: 0.054\n",
      "[RMSprop] Cost at iteration i=2, j=0: 241.374453\n",
      "Error rate: 0.04\n",
      "[RMSprop] Cost at iteration i=3, j=0: 176.364345\n",
      "Error rate: 0.039\n",
      "[RMSprop] Cost at iteration i=4, j=0: 220.355203\n",
      "Error rate: 0.035\n",
      "Final error rate: 0.034\n"
     ]
    },
    {
     "data": {
      "image/png": "[encoded data removed]",
      "text/plain": [
       "<matplotlib.figure.Figure at 0x7f4fe7d89f90>"
      ]
     },
     "metadata": {},
     "output_type": "display_data"
    },
    {
     "name": "stdout",
     "output_type": "stream",
     "text": [
      "[Nesterov] Cost at iteration i=0, j=0: 1874.225557\n",
      "Error rate: 0.595\n",
      "[Nesterov] Cost at iteration i=1, j=0: 212.491874\n",
      "Error rate: 0.056\n",
      "[Nesterov] Cost at iteration i=2, j=0: 160.154627\n",
      "Error rate: 0.044\n",
      "[Nesterov] Cost at iteration i=3, j=0: 138.849506\n",
      "Error rate: 0.036\n",
      "[Nesterov] Cost at iteration i=4, j=0: 124.146197\n",
      "Error rate: 0.031\n",
      "Final error rate: 0.034\n",
      "[RMSprop] Cost at iteration i=0, j=0: 9342.011869\n",
      "Error rate: 0.344\n",
      "[RMSprop] Cost at iteration i=1, j=0: 600.306416\n",
      "Error rate: 0.058\n",
      "[RMSprop] Cost at iteration i=2, j=0: 1625.858590\n",
      "Error rate: 0.067\n",
      "[RMSprop] Cost at iteration i=3, j=0: 381.446910\n",
      "Error rate: 0.033\n",
      "[RMSprop] Cost at iteration i=4, j=0: 314.504445\n",
      "Error rate: 0.034\n",
      "Final error rate: 0.035\n"
     ]
    },
    {
     "data": {
      "image/png": "[encoded data removed]",
      "text/plain": [
       "<matplotlib.figure.Figure at 0x7f4fe7ce7d50>"
      ]
     },
     "metadata": {},
     "output_type": "display_data"
    }
   ],
   "source": [
    "if __name__ == '__main__':\n",
    "    ANN(n_hdim = 100)\n",
    "    ANN(n_hdim = 500)\n",
    "    ANN(n_hdim = 1000)\n",
    "    ANN(n_hdim = 1500)"
   ]
  },
  {
   "cell_type": "markdown",
   "metadata": {},
   "source": [
    "- Interesting result\n",
    "    + Nesterov drops the error rate faster but rms eventually got better."
   ]
  }
 ],
 "metadata": {
  "kernelspec": {
   "display_name": "Python 2",
   "language": "python",
   "name": "python2"
  },
  "language_info": {
   "codemirror_mode": {
    "name": "ipython",
    "version": 2
   },
   "file_extension": ".py",
   "mimetype": "text/x-python",
   "name": "python",
   "nbconvert_exporter": "python",
   "pygments_lexer": "ipython2",
   "version": "2.7.12+"
  }
 },
 "nbformat": 4,
 "nbformat_minor": 1
}
