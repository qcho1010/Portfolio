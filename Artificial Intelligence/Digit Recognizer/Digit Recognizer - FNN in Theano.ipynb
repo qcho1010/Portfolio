{
 "cells": [
  {
   "cell_type": "markdown",
   "metadata": {},
   "source": [
    "# Digit Recognizer - Feed Foward Net in Theano\n",
    "\n",
    "**Kyu Cho**  \n",
    "**11/1/2016**"
   ]
  },
  {
   "cell_type": "markdown",
   "metadata": {},
   "source": [
    "# Data\n",
    "- Each image is 28 pixels in height and 28 pixels in width, for a total of 784 pixels in total. \n",
    "- Each pixel has a single pixel-value associated with it, indicating the lightness or darkness of that pixel, with higher numbers meaning darker. This pixel-value is an integer between 0 and 255, inclusive.  \n",
    "  \n",
    "- The training data set, (train.csv), has 785 columns. \n",
    "- The first column, called \"label\", is the digit that was drawn by the user. \n",
    "- The rest of the columns contain the pixel-values of the associated image.  \n",
    "  \n",
    "- Each pixel column in the training set has a name like pixelx, where x is an integer between 0 and 783, inclusive. \n",
    "- To locate this pixel on the image, suppose that we have decomposed x as x = i * 28 + j, where i and j are integers between 0 and 27, inclusive. \n",
    "- Then pixelx is located on row i and column j of a 28 x 28 matrix, (indexing by zero).\n",
    "    + For example, pixel31 indicates the pixel that is in the fourth column from the left, and the second row from the top, as in the ascii-diagram below.\n",
    "\n",
    "000 001 002 003 ... 026 027  \n",
    "028 029 030 031 ... 054 055  \n",
    "056 057 058 059 ... 082 083  \n",
    " |   |   |   |  ...  |   |  \n",
    "728 729 730 731 ... 754 755  \n",
    "756 757 758 759 ... 782 783   "
   ]
  },
  {
   "cell_type": "markdown",
   "metadata": {},
   "source": [
    "# Techniques Used"
   ]
  },
  {
   "cell_type": "markdown",
   "metadata": {},
   "source": [
    "1. Feed Forward\n",
    "2. TODO: Drop out\n",
    "3. TODO Nesterov and RMSprop\n",
    "4. Ragulization\n",
    "5. Learning Rate\n",
    "6. Batch Gradient\n",
    "7. Normalization or PCA"
   ]
  },
  {
   "cell_type": "markdown",
   "metadata": {},
   "source": [
    "# Table of Contents\n",
    "1. Load Data\n",
    "2. Split Data\n",
    "3. Function initialization\n",
    "4. Build Model"
   ]
  },
  {
   "cell_type": "markdown",
   "metadata": {},
   "source": [
    "## Load Data"
   ]
  },
  {
   "cell_type": "code",
   "execution_count": 1,
   "metadata": {
    "collapsed": false
   },
   "outputs": [],
   "source": [
    "import matplotlib.pyplot as plt\n",
    "%matplotlib inline\n",
    "import numpy as np\n",
    "import pandas as pd\n",
    "import theano\n",
    "import theano.tensor as T\n",
    "\n",
    "def get_normalized_data():\n",
    "    print \"Reading in and transforming data...\"\n",
    "    df = pd.read_csv('../large_files/train.csv')\n",
    "    \n",
    "    data = df.as_matrix().astype(np.float32)\n",
    "    np.random.shuffle(data)\n",
    "    \n",
    "    Y = data[:, 0]\n",
    "    X = data[:, 1:]\n",
    "    \n",
    "    mu = X.mean(axis=0)\n",
    "    std = X.std(axis=0)\n",
    "    np.place(std, std == 0, 1)\n",
    "    X = (X - mu) / std # normalize the data\n",
    "    \n",
    "    return X, Y"
   ]
  },
  {
   "cell_type": "code",
   "execution_count": 2,
   "metadata": {
    "collapsed": false
   },
   "outputs": [
    {
     "name": "stdout",
     "output_type": "stream",
     "text": [
      "Reading in and transforming data...\n"
     ]
    },
    {
     "data": {
      "text/plain": [
       "((42000, 784), (42000,))"
      ]
     },
     "execution_count": 2,
     "metadata": {},
     "output_type": "execute_result"
    }
   ],
   "source": [
    "X, Y = get_normalized_data()\n",
    "X.shape, Y.shape"
   ]
  },
  {
   "cell_type": "markdown",
   "metadata": {},
   "source": [
    "## Split train and test set"
   ]
  },
  {
   "cell_type": "code",
   "execution_count": 3,
   "metadata": {
    "collapsed": true
   },
   "outputs": [],
   "source": [
    "Xtrain = X[:-1000,]\n",
    "Ytrain = Y[:-1000]\n",
    "Xtest  = X[-1000:,]\n",
    "Ytest  = Y[-1000:]"
   ]
  },
  {
   "cell_type": "code",
   "execution_count": 4,
   "metadata": {
    "collapsed": false
   },
   "outputs": [
    {
     "data": {
      "text/plain": [
       "((41000, 784), (41000,))"
      ]
     },
     "execution_count": 4,
     "metadata": {},
     "output_type": "execute_result"
    }
   ],
   "source": [
    "Xtrain.shape, Ytrain.shape"
   ]
  },
  {
   "cell_type": "code",
   "execution_count": 5,
   "metadata": {
    "collapsed": false
   },
   "outputs": [],
   "source": [
    "# create indicator matrix, represent digit in location for each row\n",
    "# ex) digit 9 -> indicate 1 in 9th column\n",
    "def y2indicator(y):\n",
    "    N = len(y)\n",
    "    ind = np.zeros((N, 10)) # digit has 0 to 9 (10 number)\n",
    "    for i in xrange(N):\n",
    "        ind[i, y[i]] = 1\n",
    "    return ind"
   ]
  },
  {
   "cell_type": "code",
   "execution_count": 6,
   "metadata": {
    "collapsed": false
   },
   "outputs": [
    {
     "name": "stderr",
     "output_type": "stream",
     "text": [
      "/usr/local/lib/python2.7/dist-packages/ipykernel/__main__.py:7: VisibleDeprecationWarning: using a non-integer number instead of an integer will result in an error in the future\n"
     ]
    }
   ],
   "source": [
    "Ytrain_ind = y2indicator(Ytrain)\n",
    "Ytest_ind = y2indicator(Ytest)"
   ]
  },
  {
   "cell_type": "markdown",
   "metadata": {},
   "source": [
    "## Initialization"
   ]
  },
  {
   "cell_type": "markdown",
   "metadata": {},
   "source": [
    "### Derivative function"
   ]
  },
  {
   "cell_type": "code",
   "execution_count": 7,
   "metadata": {
    "collapsed": true
   },
   "outputs": [],
   "source": [
    "# Derivative functions are replaced by theano update function"
   ]
  },
  {
   "cell_type": "markdown",
   "metadata": {},
   "source": [
    "### Feed Foward and Cost function"
   ]
  },
  {
   "cell_type": "code",
   "execution_count": 8,
   "metadata": {
    "collapsed": true
   },
   "outputs": [],
   "source": [
    "# Feed Forward and Cost functions are replaced by theano function\n",
    "\n",
    "def relu(a):\n",
    "    return a * (a > 0)\n",
    "\n",
    "def error_rate(p, t):\n",
    "    return np.mean(p != t)"
   ]
  },
  {
   "cell_type": "markdown",
   "metadata": {},
   "source": [
    "## Build Model"
   ]
  },
  {
   "cell_type": "code",
   "execution_count": 9,
   "metadata": {
    "collapsed": true
   },
   "outputs": [],
   "source": [
    "def ANN(n_hdim):\n",
    "    \n",
    "    # initialize hyper-parameters\n",
    "    max_iter = 5  # 5 iteration for sigmoid\n",
    "    print_period = 100 # print every 10 iterations\n",
    "    lr = 0.00004 # learning rate\n",
    "    reg = 0.01 # regulization rate\n",
    "    batch_sz = 1000 # batch size\n",
    "    N, D = Xtrain.shape # 41000, 784\n",
    "    n_batches = N / batch_sz  # number of batches\n",
    "    M = n_hdim # hidden layer dmention\n",
    "    K = 10 # number of output '0' to '9' so 10 numbers\n",
    "    \n",
    "    # initialize weight and bias\n",
    "    W1_init = np.random.randn(D, M) / np.sqrt(D)  # 784x300\n",
    "    b1_init = np.zeros(M)\n",
    "    W2_init = np.random.randn(M, K) / np.sqrt(M)  # 300x10\n",
    "    b2_init = np.zeros(K)\n",
    "      \n",
    "        \n",
    "    ################################ Theano Area Start ################################\n",
    "    \n",
    "    # create theano var., usually the data will be the input\n",
    "    thX = T.matrix('X')\t\t# static(not a reference variable)\n",
    "    thT = T.matrix('T')\t\t# static(not a reference variable)\n",
    "    \n",
    "    # convert python var. to theano var\n",
    "    W1 = theano.shared(W1_init, 'W1')\t# dynamic(a reference variable)\n",
    "    b1 = theano.shared(b1_init, 'b1')\t# dynamic(a reference variable)\n",
    "    W2 = theano.shared(W2_init, 'W2')\t# dynamic(a reference variable)\n",
    "    b2 = theano.shared(b2_init, 'b2')\t# dynamic(a reference variable)\n",
    "\n",
    "    # define forward function\n",
    "    thZ = relu(thX.dot(W1) + b1)\n",
    "    thY = T.nnet.softmax(thZ.dot(W2) + b2)\n",
    "    \n",
    "    # define the cost function\n",
    "    cost = -(thT * T.log(thY)).sum()\n",
    "    \n",
    "    # define prediction function\n",
    "    prediction = T.argmax(thY, axis=1)\n",
    "\n",
    "    # define another prediction function to run though whole dataset\n",
    "    get_prediction = theano.function(\n",
    "        inputs=[thX, thT],\n",
    "        outputs=[cost, prediction],\n",
    "    )\n",
    "\n",
    "    # define update expression\n",
    "    update_W1 = W1 - lr*(T.grad(cost, W1) + reg*W1)\n",
    "    update_b1 = b1 - lr*(T.grad(cost, b1) + reg*b1)\n",
    "    update_W2 = W2 - lr*(T.grad(cost, W2) + reg*W2)\n",
    "    update_b2 = b2 - lr*(T.grad(cost, b2) + reg*b2)\n",
    "\n",
    "    # define train function\n",
    "    # updates takes list of tubles as (shared variable, expression)\n",
    "    train = theano.function(\n",
    "        inputs=[thX, thT],\n",
    "        updates=[(W1, update_W1), \n",
    "                 (b1, update_b1), \n",
    "                 (W2, update_W2), \n",
    "                 (b2, update_b2)],\n",
    "    )\n",
    "    ################################ Theano Area End  ################################\n",
    "\n",
    "    LL = []\n",
    "    for i in xrange(max_iter):\n",
    "        for j in xrange(n_batches):\n",
    "            Xbatch = Xtrain[j*batch_sz:(j*batch_sz + batch_sz),]\n",
    "            Ybatch = Ytrain_ind[j*batch_sz:(j*batch_sz + batch_sz),]\n",
    "\n",
    "            train(Xbatch, Ybatch) # update the values only\n",
    "\n",
    "            if j % print_period == 0:\n",
    "                cost_val, prediction_val = get_prediction(Xtest, Ytest_ind)\n",
    "                err = error_rate(prediction_val, Ytest)\n",
    "\n",
    "                print \"Cost / err at iteration i=%d, j=%d: %.3f / %.3f\" % (i, j, cost_val, err)\n",
    "                LL.append(cost_val)\n",
    "\n",
    "    plt.plot(LL)\n",
    "    plt.show()"
   ]
  },
  {
   "cell_type": "code",
   "execution_count": 10,
   "metadata": {
    "collapsed": false
   },
   "outputs": [
    {
     "name": "stdout",
     "output_type": "stream",
     "text": [
      "Cost / err at iteration i=0, j=0: 2451.687 / 0.894\n",
      "Cost / err at iteration i=1, j=0: 1186.349 / 0.312\n",
      "Cost / err at iteration i=2, j=0: 783.695 / 0.207\n",
      "Cost / err at iteration i=3, j=0: 616.792 / 0.171\n",
      "Cost / err at iteration i=4, j=0: 530.932 / 0.151\n"
     ]
    },
    {
     "data": {
      "image/png": "[encoded data removed]",
      "text/plain": [
       "<matplotlib.figure.Figure at 0x7fe22bf62dd0>"
      ]
     },
     "metadata": {},
     "output_type": "display_data"
    },
    {
     "name": "stdout",
     "output_type": "stream",
     "text": [
      "Cost / err at iteration i=0, j=0: 2323.525 / 0.856\n",
      "Cost / err at iteration i=1, j=0: 677.954 / 0.176\n",
      "Cost / err at iteration i=2, j=0: 492.810 / 0.138\n",
      "Cost / err at iteration i=3, j=0: 416.015 / 0.116\n",
      "Cost / err at iteration i=4, j=0: 371.082 / 0.107\n"
     ]
    },
    {
     "data": {
      "image/png": "[encoded data removed]",
      "text/plain": [
       "<matplotlib.figure.Figure at 0x7fe2230c76d0>"
      ]
     },
     "metadata": {},
     "output_type": "display_data"
    },
    {
     "name": "stdout",
     "output_type": "stream",
     "text": [
      "Cost / err at iteration i=0, j=0: 2194.970 / 0.766\n",
      "Cost / err at iteration i=1, j=0: 603.810 / 0.160\n",
      "Cost / err at iteration i=2, j=0: 454.260 / 0.127\n",
      "Cost / err at iteration i=3, j=0: 390.279 / 0.115\n",
      "Cost / err at iteration i=4, j=0: 351.990 / 0.097\n"
     ]
    },
    {
     "data": {
      "image/png": "[encoded data removed]",
      "text/plain": [
       "<matplotlib.figure.Figure at 0x7fe222fbb310>"
      ]
     },
     "metadata": {},
     "output_type": "display_data"
    },
    {
     "name": "stdout",
     "output_type": "stream",
     "text": [
      "Cost / err at iteration i=0, j=0: 2108.171 / 0.718\n",
      "Cost / err at iteration i=1, j=0: 565.997 / 0.153\n",
      "Cost / err at iteration i=2, j=0: 432.631 / 0.127\n",
      "Cost / err at iteration i=3, j=0: 374.025 / 0.110\n",
      "Cost / err at iteration i=4, j=0: 338.631 / 0.099\n"
     ]
    },
    {
     "data": {
      "image/png": "[encoded data removed]",
      "text/plain": [
       "<matplotlib.figure.Figure at 0x7fe22b381c50>"
      ]
     },
     "metadata": {},
     "output_type": "display_data"
    }
   ],
   "source": [
    "if __name__ == '__main__':\n",
    "    ANN(n_hdim = 10)\n",
    "    ANN(n_hdim = 500)\n",
    "    ANN(n_hdim = 1000)\n",
    "    ANN(n_hdim = 1500)"
   ]
  },
  {
   "cell_type": "markdown",
   "metadata": {},
   "source": [
    "- Interesting result\n",
    "    + Nesterov drops the error rate faster but rms eventually got better."
   ]
  }
 ],
 "metadata": {
  "kernelspec": {
   "display_name": "Python 2",
   "language": "python",
   "name": "python2"
  },
  "language_info": {
   "codemirror_mode": {
    "name": "ipython",
    "version": 2
   },
   "file_extension": ".py",
   "mimetype": "text/x-python",
   "name": "python",
   "nbconvert_exporter": "python",
   "pygments_lexer": "ipython2",
   "version": "2.7.12"
  }
 },
 "nbformat": 4,
 "nbformat_minor": 1
}
